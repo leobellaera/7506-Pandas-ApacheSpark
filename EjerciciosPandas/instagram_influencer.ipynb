{
 "cells": [
  {
   "cell_type": "code",
   "execution_count": 2,
   "metadata": {},
   "outputs": [],
   "source": [
    "import pandas as pd\n",
    "import numpy as np"
   ]
  },
  {
   "cell_type": "markdown",
   "metadata": {},
   "source": [
    "dataframe = (id_usuario, nikname, pais, cantidad_seguidores, cantidad_seguidos, cantidad_total_publicaciones)\n",
    "\n",
    "Se quieren obtener los 1 usuarios influencer, para eso debe tener:\n",
    "\n",
    "- tener una cantidad de seguidores mayor al 80% de la maxima total de seguidores en su pais (usuario argentino y el maximo de seguidores en argentina es 1000 entonces debera tener al menos 800 seguidores)\n",
    "\n",
    "- El numero de usuarios que esa persona sigue no debe de superar el 15% de la cantidad de sus seguidores\n",
    "\n",
    "- Criterio final sera a partir de la maxima cantidad de seguidores que tengan"
   ]
  },
  {
   "cell_type": "code",
   "execution_count": 3,
   "metadata": {},
   "outputs": [],
   "source": [
    "data = [[1, 'camila', 'AR', 500, 120, 46],\n",
    "        [2, 'lucia', 'AR', 2500, 100, 121],\n",
    "        [3, 'franco', 'AR', 90300, 2400, 482],\n",
    "        [4, 'luisarg', 'AR', 130, 97, 2],\n",
    "        [5, 'carlos', 'UY', 14000, 12000, 590],\n",
    "        [6, 'manuel', 'UY', 500, 320, 39],\n",
    "        [7, 'lucio', 'AR', 2500, 500, 121]] \n",
    "  \n",
    "# Create the pandas DataFrame \n",
    "df = pd.DataFrame(data, columns = ['id_usuario', 'nickname', 'pais', \n",
    "                                   'cant_seguidores', 'cant_seguidos', 'cant_total_publicaciones']) "
   ]
  },
  {
   "cell_type": "code",
   "execution_count": 4,
   "metadata": {},
   "outputs": [
    {
     "data": {
      "text/html": [
       "<div>\n",
       "<style scoped>\n",
       "    .dataframe tbody tr th:only-of-type {\n",
       "        vertical-align: middle;\n",
       "    }\n",
       "\n",
       "    .dataframe tbody tr th {\n",
       "        vertical-align: top;\n",
       "    }\n",
       "\n",
       "    .dataframe thead th {\n",
       "        text-align: right;\n",
       "    }\n",
       "</style>\n",
       "<table border=\"1\" class=\"dataframe\">\n",
       "  <thead>\n",
       "    <tr style=\"text-align: right;\">\n",
       "      <th></th>\n",
       "      <th>id_usuario</th>\n",
       "      <th>nickname</th>\n",
       "      <th>pais</th>\n",
       "      <th>cant_seguidores</th>\n",
       "      <th>cant_seguidos</th>\n",
       "      <th>cant_total_publicaciones</th>\n",
       "    </tr>\n",
       "  </thead>\n",
       "  <tbody>\n",
       "    <tr>\n",
       "      <th>0</th>\n",
       "      <td>1</td>\n",
       "      <td>camila</td>\n",
       "      <td>AR</td>\n",
       "      <td>500</td>\n",
       "      <td>120</td>\n",
       "      <td>46</td>\n",
       "    </tr>\n",
       "    <tr>\n",
       "      <th>1</th>\n",
       "      <td>2</td>\n",
       "      <td>lucia</td>\n",
       "      <td>AR</td>\n",
       "      <td>2500</td>\n",
       "      <td>100</td>\n",
       "      <td>121</td>\n",
       "    </tr>\n",
       "    <tr>\n",
       "      <th>2</th>\n",
       "      <td>3</td>\n",
       "      <td>franco</td>\n",
       "      <td>AR</td>\n",
       "      <td>90300</td>\n",
       "      <td>2400</td>\n",
       "      <td>482</td>\n",
       "    </tr>\n",
       "    <tr>\n",
       "      <th>3</th>\n",
       "      <td>4</td>\n",
       "      <td>luisarg</td>\n",
       "      <td>AR</td>\n",
       "      <td>130</td>\n",
       "      <td>97</td>\n",
       "      <td>2</td>\n",
       "    </tr>\n",
       "    <tr>\n",
       "      <th>4</th>\n",
       "      <td>5</td>\n",
       "      <td>carlos</td>\n",
       "      <td>UY</td>\n",
       "      <td>14000</td>\n",
       "      <td>12000</td>\n",
       "      <td>590</td>\n",
       "    </tr>\n",
       "  </tbody>\n",
       "</table>\n",
       "</div>"
      ],
      "text/plain": [
       "   id_usuario nickname pais  cant_seguidores  cant_seguidos  \\\n",
       "0           1   camila   AR              500            120   \n",
       "1           2    lucia   AR             2500            100   \n",
       "2           3   franco   AR            90300           2400   \n",
       "3           4  luisarg   AR              130             97   \n",
       "4           5   carlos   UY            14000          12000   \n",
       "\n",
       "   cant_total_publicaciones  \n",
       "0                        46  \n",
       "1                       121  \n",
       "2                       482  \n",
       "3                         2  \n",
       "4                       590  "
      ]
     },
     "execution_count": 4,
     "metadata": {},
     "output_type": "execute_result"
    }
   ],
   "source": [
    "df.head()"
   ]
  },
  {
   "cell_type": "code",
   "execution_count": null,
   "metadata": {},
   "outputs": [],
   "source": []
  },
  {
   "cell_type": "code",
   "execution_count": 7,
   "metadata": {},
   "outputs": [
    {
     "data": {
      "text/html": [
       "<div>\n",
       "<style scoped>\n",
       "    .dataframe tbody tr th:only-of-type {\n",
       "        vertical-align: middle;\n",
       "    }\n",
       "\n",
       "    .dataframe tbody tr th {\n",
       "        vertical-align: top;\n",
       "    }\n",
       "\n",
       "    .dataframe thead th {\n",
       "        text-align: right;\n",
       "    }\n",
       "</style>\n",
       "<table border=\"1\" class=\"dataframe\">\n",
       "  <thead>\n",
       "    <tr style=\"text-align: right;\">\n",
       "      <th></th>\n",
       "      <th>pais</th>\n",
       "      <th>total_seguidores</th>\n",
       "    </tr>\n",
       "  </thead>\n",
       "  <tbody>\n",
       "    <tr>\n",
       "      <th>0</th>\n",
       "      <td>AR</td>\n",
       "      <td>95930</td>\n",
       "    </tr>\n",
       "    <tr>\n",
       "      <th>1</th>\n",
       "      <td>UY</td>\n",
       "      <td>14500</td>\n",
       "    </tr>\n",
       "  </tbody>\n",
       "</table>\n",
       "</div>"
      ],
      "text/plain": [
       "  pais  total_seguidores\n",
       "0   AR             95930\n",
       "1   UY             14500"
      ]
     },
     "execution_count": 7,
     "metadata": {},
     "output_type": "execute_result"
    }
   ],
   "source": [
    "# sumo la cantidad de seguidores de cada pais\n",
    "pais_cant_seg = df.groupby('pais').agg({'cant_seguidores': sum}).reset_index()\n",
    "pais_cant_seg.columns = ['pais', 'total_seguidores']\n",
    "pais_cant_seg"
   ]
  },
  {
   "cell_type": "code",
   "execution_count": 8,
   "metadata": {},
   "outputs": [],
   "source": [
    "df = pd.merge(df,pais_cant_seg, on='pais')"
   ]
  },
  {
   "cell_type": "code",
   "execution_count": 19,
   "metadata": {},
   "outputs": [
    {
     "data": {
      "text/html": [
       "<div>\n",
       "<style scoped>\n",
       "    .dataframe tbody tr th:only-of-type {\n",
       "        vertical-align: middle;\n",
       "    }\n",
       "\n",
       "    .dataframe tbody tr th {\n",
       "        vertical-align: top;\n",
       "    }\n",
       "\n",
       "    .dataframe thead th {\n",
       "        text-align: right;\n",
       "    }\n",
       "</style>\n",
       "<table border=\"1\" class=\"dataframe\">\n",
       "  <thead>\n",
       "    <tr style=\"text-align: right;\">\n",
       "      <th></th>\n",
       "      <th>id_usuario</th>\n",
       "      <th>nickname</th>\n",
       "      <th>pais</th>\n",
       "      <th>cant_seguidores</th>\n",
       "      <th>cant_seguidos</th>\n",
       "      <th>cant_total_publicaciones</th>\n",
       "      <th>total_seguidores</th>\n",
       "    </tr>\n",
       "  </thead>\n",
       "  <tbody>\n",
       "    <tr>\n",
       "      <th>2</th>\n",
       "      <td>3</td>\n",
       "      <td>franco</td>\n",
       "      <td>AR</td>\n",
       "      <td>90300</td>\n",
       "      <td>2400</td>\n",
       "      <td>482</td>\n",
       "      <td>95930</td>\n",
       "    </tr>\n",
       "  </tbody>\n",
       "</table>\n",
       "</div>"
      ],
      "text/plain": [
       "   id_usuario nickname pais  cant_seguidores  cant_seguidos  \\\n",
       "2           3   franco   AR            90300           2400   \n",
       "\n",
       "   cant_total_publicaciones  total_seguidores  \n",
       "2                       482             95930  "
      ]
     },
     "execution_count": 19,
     "metadata": {},
     "output_type": "execute_result"
    }
   ],
   "source": [
    "# filtros para cantidad de seguidores y cantidad de seguidos\n",
    "influencer = df.loc[ df['cant_seguidores'] > (df['total_seguidores']*0.8)]\n",
    "influencer = influencer.loc[ df['cant_seguidores']*0.15 > df['cant_seguidos']]\n",
    "influencer"
   ]
  }
 ],
 "metadata": {
  "kernelspec": {
   "display_name": "Python 3",
   "language": "python",
   "name": "python3"
  },
  "language_info": {
   "codemirror_mode": {
    "name": "ipython",
    "version": 3
   },
   "file_extension": ".py",
   "mimetype": "text/x-python",
   "name": "python",
   "nbconvert_exporter": "python",
   "pygments_lexer": "ipython3",
   "version": "3.6.7"
  }
 },
 "nbformat": 4,
 "nbformat_minor": 2
}
