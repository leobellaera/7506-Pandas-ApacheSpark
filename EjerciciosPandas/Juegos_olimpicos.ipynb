{
 "cells": [
  {
   "cell_type": "code",
   "execution_count": 23,
   "metadata": {},
   "outputs": [],
   "source": [
    "import pandas as pd\n",
    "import numpy as np"
   ]
  },
  {
   "cell_type": "markdown",
   "metadata": {},
   "source": [
    "Dada la exitosa convocatoria de los Juegos Olímpicos de la Juventud por parte del público, sus organizadores\n",
    "realizan distintos análisis para planificar las jornadas finales del certamen. Es por ello que cuentan con información en\n",
    "los siguientes archivos csv:\n",
    "\n",
    "\n",
    "eventos.csv (id_evento, fecha, id_locacion, nombre_evento, id_categoria_deportiva, cantidad_espectadores)\n",
    "\n",
    "locacion.csv (id_locacion, nombre, capacidad, capacidad_extendida, sede, latitud, longitud)\n",
    "\n",
    "categorias_deportivas.csv (id_categoria_deportiva, nombre, año_de_adopcion)\n",
    "\n",
    "\n",
    "El primer archivo cuenta con información de los eventos, indicando la fecha (en formato “YYYY-mm-dd hh:mm:ss”), el\n",
    "lugar donde ocurrió (id_locacion) y la cantidad de espectadores que asistieron. Además se aporta información sobre la\n",
    "categoría deportiva a la cual pertenece el evento.\n",
    "\n",
    "Por otro lado se tiene información sobre las distintas locaciones en la sedes del certamen en las que ocurrieron los\n",
    "eventos. Contamos con información de su capacidad total de espectadores así como de su capacidad extendida (cuantos\n",
    "asientos extras se pueden brindar sobre la capacidad de la locación)."
   ]
  },
  {
   "cell_type": "markdown",
   "metadata": {},
   "source": [
    "### Resolvemos el punto (a)\n",
    "\n",
    "a) Nombre de la sede que acumuló la mayor cantidad de espectadores en eventos durante el certamen del 14 al 15 de\n",
    "octubre inclusive. Esto es de vital importancia para distribuir el merchandising oficial del evento, para las fechas finales.\n",
    "(7 pts) "
   ]
  },
  {
   "cell_type": "code",
   "execution_count": 24,
   "metadata": {},
   "outputs": [],
   "source": [
    "eventos_data = {\n",
    "        'fecha': [\"2019-10-14 15:10:13\",\"2019-10-15 15:10:13\", \"2019-10-16 15:10:13\", \"2019-09-14 15:10:13\", \"2019-10-14 16:10:13\"],\n",
    "        'id_locacion' : [1,1,2,3,4],\n",
    "        'cantidad_espectadores': [1000, 1500, 3580, 115000, 383],\n",
    "}\n",
    "\n",
    "eventos = pd.DataFrame(eventos_data, columns = ['fecha', 'id_locacion', 'cantidad_espectadores'])"
   ]
  },
  {
   "cell_type": "code",
   "execution_count": 25,
   "metadata": {},
   "outputs": [],
   "source": [
    "locacion_data = {               #cada locacion seria un estadio y la sede es la ciudad donde esta esa locacion\n",
    "    'id_locacion': [1,2,3,4],\n",
    "    'sede' : ['Nueva York', 'Nueva York', 'Miami', 'Nevada']\n",
    "}\n",
    "\n",
    "locacion = pd.DataFrame(locacion_data, columns = ['id_locacion', 'sede'])"
   ]
  },
  {
   "cell_type": "code",
   "execution_count": 26,
   "metadata": {},
   "outputs": [
    {
     "data": {
      "text/html": [
       "<div>\n",
       "<style scoped>\n",
       "    .dataframe tbody tr th:only-of-type {\n",
       "        vertical-align: middle;\n",
       "    }\n",
       "\n",
       "    .dataframe tbody tr th {\n",
       "        vertical-align: top;\n",
       "    }\n",
       "\n",
       "    .dataframe thead th {\n",
       "        text-align: right;\n",
       "    }\n",
       "</style>\n",
       "<table border=\"1\" class=\"dataframe\">\n",
       "  <thead>\n",
       "    <tr style=\"text-align: right;\">\n",
       "      <th></th>\n",
       "      <th>fecha</th>\n",
       "      <th>id_locacion</th>\n",
       "      <th>cantidad_espectadores</th>\n",
       "    </tr>\n",
       "  </thead>\n",
       "  <tbody>\n",
       "    <tr>\n",
       "      <th>0</th>\n",
       "      <td>2019-10-14 15:10:13</td>\n",
       "      <td>1</td>\n",
       "      <td>1000</td>\n",
       "    </tr>\n",
       "    <tr>\n",
       "      <th>1</th>\n",
       "      <td>2019-10-15 15:10:13</td>\n",
       "      <td>1</td>\n",
       "      <td>1500</td>\n",
       "    </tr>\n",
       "    <tr>\n",
       "      <th>2</th>\n",
       "      <td>2019-10-16 15:10:13</td>\n",
       "      <td>2</td>\n",
       "      <td>3580</td>\n",
       "    </tr>\n",
       "    <tr>\n",
       "      <th>3</th>\n",
       "      <td>2019-09-14 15:10:13</td>\n",
       "      <td>3</td>\n",
       "      <td>115000</td>\n",
       "    </tr>\n",
       "    <tr>\n",
       "      <th>4</th>\n",
       "      <td>2019-10-14 16:10:13</td>\n",
       "      <td>4</td>\n",
       "      <td>383</td>\n",
       "    </tr>\n",
       "  </tbody>\n",
       "</table>\n",
       "</div>"
      ],
      "text/plain": [
       "                 fecha  id_locacion  cantidad_espectadores\n",
       "0  2019-10-14 15:10:13            1                   1000\n",
       "1  2019-10-15 15:10:13            1                   1500\n",
       "2  2019-10-16 15:10:13            2                   3580\n",
       "3  2019-09-14 15:10:13            3                 115000\n",
       "4  2019-10-14 16:10:13            4                    383"
      ]
     },
     "execution_count": 26,
     "metadata": {},
     "output_type": "execute_result"
    }
   ],
   "source": [
    "eventos.head()"
   ]
  },
  {
   "cell_type": "code",
   "execution_count": 27,
   "metadata": {},
   "outputs": [
    {
     "data": {
      "text/html": [
       "<div>\n",
       "<style scoped>\n",
       "    .dataframe tbody tr th:only-of-type {\n",
       "        vertical-align: middle;\n",
       "    }\n",
       "\n",
       "    .dataframe tbody tr th {\n",
       "        vertical-align: top;\n",
       "    }\n",
       "\n",
       "    .dataframe thead th {\n",
       "        text-align: right;\n",
       "    }\n",
       "</style>\n",
       "<table border=\"1\" class=\"dataframe\">\n",
       "  <thead>\n",
       "    <tr style=\"text-align: right;\">\n",
       "      <th></th>\n",
       "      <th>id_locacion</th>\n",
       "      <th>sede</th>\n",
       "    </tr>\n",
       "  </thead>\n",
       "  <tbody>\n",
       "    <tr>\n",
       "      <th>0</th>\n",
       "      <td>1</td>\n",
       "      <td>Nueva York</td>\n",
       "    </tr>\n",
       "    <tr>\n",
       "      <th>1</th>\n",
       "      <td>2</td>\n",
       "      <td>Nueva York</td>\n",
       "    </tr>\n",
       "    <tr>\n",
       "      <th>2</th>\n",
       "      <td>3</td>\n",
       "      <td>Miami</td>\n",
       "    </tr>\n",
       "    <tr>\n",
       "      <th>3</th>\n",
       "      <td>4</td>\n",
       "      <td>Nevada</td>\n",
       "    </tr>\n",
       "  </tbody>\n",
       "</table>\n",
       "</div>"
      ],
      "text/plain": [
       "   id_locacion        sede\n",
       "0            1  Nueva York\n",
       "1            2  Nueva York\n",
       "2            3       Miami\n",
       "3            4      Nevada"
      ]
     },
     "execution_count": 27,
     "metadata": {},
     "output_type": "execute_result"
    }
   ],
   "source": [
    "locacion.head()"
   ]
  },
  {
   "cell_type": "code",
   "execution_count": 28,
   "metadata": {},
   "outputs": [],
   "source": [
    "#eventos = pd.read_csv(\"eventos.csv\")\n",
    "eventos['fecha'] = pd.to_datetime(eventos['fecha'], errors = 'coerce') #si hay NaN's en las fechas evitamos que explote todo\n",
    "eventos = eventos.loc[((eventos['fecha'].dt.day == 14) | (eventos['fecha'].dt.day == 15)) & (eventos['fecha'].dt.month == 10) ]"
   ]
  },
  {
   "cell_type": "code",
   "execution_count": 29,
   "metadata": {},
   "outputs": [
    {
     "data": {
      "text/html": [
       "<div>\n",
       "<style scoped>\n",
       "    .dataframe tbody tr th:only-of-type {\n",
       "        vertical-align: middle;\n",
       "    }\n",
       "\n",
       "    .dataframe tbody tr th {\n",
       "        vertical-align: top;\n",
       "    }\n",
       "\n",
       "    .dataframe thead th {\n",
       "        text-align: right;\n",
       "    }\n",
       "</style>\n",
       "<table border=\"1\" class=\"dataframe\">\n",
       "  <thead>\n",
       "    <tr style=\"text-align: right;\">\n",
       "      <th></th>\n",
       "      <th>fecha</th>\n",
       "      <th>id_locacion</th>\n",
       "      <th>cantidad_espectadores</th>\n",
       "    </tr>\n",
       "  </thead>\n",
       "  <tbody>\n",
       "    <tr>\n",
       "      <th>0</th>\n",
       "      <td>2019-10-14 15:10:13</td>\n",
       "      <td>1</td>\n",
       "      <td>1000</td>\n",
       "    </tr>\n",
       "    <tr>\n",
       "      <th>1</th>\n",
       "      <td>2019-10-15 15:10:13</td>\n",
       "      <td>1</td>\n",
       "      <td>1500</td>\n",
       "    </tr>\n",
       "    <tr>\n",
       "      <th>4</th>\n",
       "      <td>2019-10-14 16:10:13</td>\n",
       "      <td>4</td>\n",
       "      <td>383</td>\n",
       "    </tr>\n",
       "  </tbody>\n",
       "</table>\n",
       "</div>"
      ],
      "text/plain": [
       "                fecha  id_locacion  cantidad_espectadores\n",
       "0 2019-10-14 15:10:13            1                   1000\n",
       "1 2019-10-15 15:10:13            1                   1500\n",
       "4 2019-10-14 16:10:13            4                    383"
      ]
     },
     "execution_count": 29,
     "metadata": {},
     "output_type": "execute_result"
    }
   ],
   "source": [
    "eventos.head()"
   ]
  },
  {
   "cell_type": "code",
   "execution_count": 30,
   "metadata": {},
   "outputs": [],
   "source": [
    "cant_espectadores_por_locacion = eventos.groupby('id_locacion').agg({'cantidad_espectadores': 'sum'}).reset_index()"
   ]
  },
  {
   "cell_type": "code",
   "execution_count": 31,
   "metadata": {},
   "outputs": [],
   "source": [
    "merge = cant_espectadores_por_locacion.merge(locacion, left_on = 'id_locacion', right_on = 'id_locacion', how = 'inner')"
   ]
  },
  {
   "cell_type": "code",
   "execution_count": 32,
   "metadata": {},
   "outputs": [
    {
     "data": {
      "text/html": [
       "<div>\n",
       "<style scoped>\n",
       "    .dataframe tbody tr th:only-of-type {\n",
       "        vertical-align: middle;\n",
       "    }\n",
       "\n",
       "    .dataframe tbody tr th {\n",
       "        vertical-align: top;\n",
       "    }\n",
       "\n",
       "    .dataframe thead th {\n",
       "        text-align: right;\n",
       "    }\n",
       "</style>\n",
       "<table border=\"1\" class=\"dataframe\">\n",
       "  <thead>\n",
       "    <tr style=\"text-align: right;\">\n",
       "      <th></th>\n",
       "      <th>id_locacion</th>\n",
       "      <th>cantidad_espectadores</th>\n",
       "      <th>sede</th>\n",
       "    </tr>\n",
       "  </thead>\n",
       "  <tbody>\n",
       "    <tr>\n",
       "      <th>0</th>\n",
       "      <td>1</td>\n",
       "      <td>2500</td>\n",
       "      <td>Nueva York</td>\n",
       "    </tr>\n",
       "  </tbody>\n",
       "</table>\n",
       "</div>"
      ],
      "text/plain": [
       "   id_locacion  cantidad_espectadores        sede\n",
       "0            1                   2500  Nueva York"
      ]
     },
     "execution_count": 32,
     "metadata": {},
     "output_type": "execute_result"
    }
   ],
   "source": [
    "merge.nlargest(1, columns = 'cantidad_espectadores')"
   ]
  },
  {
   "cell_type": "markdown",
   "metadata": {},
   "source": [
    "### Resolvemos el punto (b)\n",
    "\n",
    "b) Nombre del evento y nombre de la categoría deportiva de aquellos eventos cuya cantidad de espectadores superó la\n",
    "capacidad de la locación, más allá de la capacidad extendida. Esto es de vital importancia para detectar problemas de\n",
    "seguridad o si es necesario realizar algún cambio de locación. (8 pts) "
   ]
  },
  {
   "cell_type": "code",
   "execution_count": 48,
   "metadata": {},
   "outputs": [],
   "source": [
    "eventos_b_data = {\n",
    "    'nombre_evento' : ['Evento1', 'Evento2', 'Evento3', 'Evento4'],\n",
    "    'cantidad_espectadores' : [10000, 3000, 13000, 17000],\n",
    "    'id_categoria_deportiva' : [1,1,3,1],\n",
    "    'id_locacion' : [1,2,1,3]    \n",
    "}\n",
    "\n",
    "eventos_b = pd.DataFrame(eventos_b_data, columns = ['nombre_evento','cantidad_espectadores','id_categoria_deportiva','id_locacion'])\n",
    "\n",
    "locacion_b_data = {\n",
    "    'id_locacion': [1,2,3,4],\n",
    "    'sede' : ['Nueva York', 'Nueva York', 'Miami', 'Nevada'],\n",
    "    'capacidad': [5000, 13000, 9500, 24000],\n",
    "    'capacidad_extendida' : [2000, 2000, 1500, 300] \n",
    "}\n",
    "\n",
    "locacion_b = pd.DataFrame(locacion_b_data, columns = ['id_locacion', 'sede', 'capacidad', 'capacidad_extendida'])\n",
    "\n",
    "categorias_deportivas = {\n",
    "    'id_categoria_deportiva' : [1,3],\n",
    "    'nombre' : ['futbol', 'tennis']\n",
    "}\n",
    "\n",
    "categorias = pd.DataFrame(categorias_deportivas, columns = ['id_categoria_deportiva', 'nombre'])"
   ]
  },
  {
   "cell_type": "code",
   "execution_count": 49,
   "metadata": {},
   "outputs": [
    {
     "data": {
      "text/html": [
       "<div>\n",
       "<style scoped>\n",
       "    .dataframe tbody tr th:only-of-type {\n",
       "        vertical-align: middle;\n",
       "    }\n",
       "\n",
       "    .dataframe tbody tr th {\n",
       "        vertical-align: top;\n",
       "    }\n",
       "\n",
       "    .dataframe thead th {\n",
       "        text-align: right;\n",
       "    }\n",
       "</style>\n",
       "<table border=\"1\" class=\"dataframe\">\n",
       "  <thead>\n",
       "    <tr style=\"text-align: right;\">\n",
       "      <th></th>\n",
       "      <th>nombre_evento</th>\n",
       "      <th>cantidad_espectadores</th>\n",
       "      <th>id_categoria_deportiva</th>\n",
       "      <th>id_locacion</th>\n",
       "    </tr>\n",
       "  </thead>\n",
       "  <tbody>\n",
       "    <tr>\n",
       "      <th>0</th>\n",
       "      <td>Evento1</td>\n",
       "      <td>10000</td>\n",
       "      <td>1</td>\n",
       "      <td>1</td>\n",
       "    </tr>\n",
       "    <tr>\n",
       "      <th>1</th>\n",
       "      <td>Evento2</td>\n",
       "      <td>3000</td>\n",
       "      <td>1</td>\n",
       "      <td>2</td>\n",
       "    </tr>\n",
       "    <tr>\n",
       "      <th>2</th>\n",
       "      <td>Evento3</td>\n",
       "      <td>13000</td>\n",
       "      <td>3</td>\n",
       "      <td>1</td>\n",
       "    </tr>\n",
       "    <tr>\n",
       "      <th>3</th>\n",
       "      <td>Evento4</td>\n",
       "      <td>17000</td>\n",
       "      <td>1</td>\n",
       "      <td>3</td>\n",
       "    </tr>\n",
       "  </tbody>\n",
       "</table>\n",
       "</div>"
      ],
      "text/plain": [
       "  nombre_evento  cantidad_espectadores  id_categoria_deportiva  id_locacion\n",
       "0       Evento1                  10000                       1            1\n",
       "1       Evento2                   3000                       1            2\n",
       "2       Evento3                  13000                       3            1\n",
       "3       Evento4                  17000                       1            3"
      ]
     },
     "execution_count": 49,
     "metadata": {},
     "output_type": "execute_result"
    }
   ],
   "source": [
    "eventos_b.head()"
   ]
  },
  {
   "cell_type": "code",
   "execution_count": 50,
   "metadata": {},
   "outputs": [
    {
     "data": {
      "text/html": [
       "<div>\n",
       "<style scoped>\n",
       "    .dataframe tbody tr th:only-of-type {\n",
       "        vertical-align: middle;\n",
       "    }\n",
       "\n",
       "    .dataframe tbody tr th {\n",
       "        vertical-align: top;\n",
       "    }\n",
       "\n",
       "    .dataframe thead th {\n",
       "        text-align: right;\n",
       "    }\n",
       "</style>\n",
       "<table border=\"1\" class=\"dataframe\">\n",
       "  <thead>\n",
       "    <tr style=\"text-align: right;\">\n",
       "      <th></th>\n",
       "      <th>id_locacion</th>\n",
       "      <th>sede</th>\n",
       "      <th>capacidad</th>\n",
       "      <th>capacidad_extendida</th>\n",
       "    </tr>\n",
       "  </thead>\n",
       "  <tbody>\n",
       "    <tr>\n",
       "      <th>0</th>\n",
       "      <td>1</td>\n",
       "      <td>Nueva York</td>\n",
       "      <td>5000</td>\n",
       "      <td>2000</td>\n",
       "    </tr>\n",
       "    <tr>\n",
       "      <th>1</th>\n",
       "      <td>2</td>\n",
       "      <td>Nueva York</td>\n",
       "      <td>13000</td>\n",
       "      <td>2000</td>\n",
       "    </tr>\n",
       "    <tr>\n",
       "      <th>2</th>\n",
       "      <td>3</td>\n",
       "      <td>Miami</td>\n",
       "      <td>9500</td>\n",
       "      <td>1500</td>\n",
       "    </tr>\n",
       "    <tr>\n",
       "      <th>3</th>\n",
       "      <td>4</td>\n",
       "      <td>Nevada</td>\n",
       "      <td>24000</td>\n",
       "      <td>300</td>\n",
       "    </tr>\n",
       "  </tbody>\n",
       "</table>\n",
       "</div>"
      ],
      "text/plain": [
       "   id_locacion        sede  capacidad  capacidad_extendida\n",
       "0            1  Nueva York       5000                 2000\n",
       "1            2  Nueva York      13000                 2000\n",
       "2            3       Miami       9500                 1500\n",
       "3            4      Nevada      24000                  300"
      ]
     },
     "execution_count": 50,
     "metadata": {},
     "output_type": "execute_result"
    }
   ],
   "source": [
    "locacion_b.head()"
   ]
  },
  {
   "cell_type": "code",
   "execution_count": 51,
   "metadata": {},
   "outputs": [
    {
     "data": {
      "text/html": [
       "<div>\n",
       "<style scoped>\n",
       "    .dataframe tbody tr th:only-of-type {\n",
       "        vertical-align: middle;\n",
       "    }\n",
       "\n",
       "    .dataframe tbody tr th {\n",
       "        vertical-align: top;\n",
       "    }\n",
       "\n",
       "    .dataframe thead th {\n",
       "        text-align: right;\n",
       "    }\n",
       "</style>\n",
       "<table border=\"1\" class=\"dataframe\">\n",
       "  <thead>\n",
       "    <tr style=\"text-align: right;\">\n",
       "      <th></th>\n",
       "      <th>id_categoria_deportiva</th>\n",
       "      <th>nombre</th>\n",
       "    </tr>\n",
       "  </thead>\n",
       "  <tbody>\n",
       "    <tr>\n",
       "      <th>0</th>\n",
       "      <td>1</td>\n",
       "      <td>futbol</td>\n",
       "    </tr>\n",
       "    <tr>\n",
       "      <th>1</th>\n",
       "      <td>3</td>\n",
       "      <td>tennis</td>\n",
       "    </tr>\n",
       "  </tbody>\n",
       "</table>\n",
       "</div>"
      ],
      "text/plain": [
       "   id_categoria_deportiva  nombre\n",
       "0                       1  futbol\n",
       "1                       3  tennis"
      ]
     },
     "execution_count": 51,
     "metadata": {},
     "output_type": "execute_result"
    }
   ],
   "source": [
    "categorias.head()"
   ]
  },
  {
   "cell_type": "markdown",
   "metadata": {},
   "source": [
    "b) Nombre del evento y nombre de la categoría deportiva de aquellos eventos cuya cantidad de espectadores superó la\n",
    "capacidad de la locación, más allá de la capacidad extendida. Esto es de vital importancia para detectar problemas de\n",
    "seguridad o si es necesario realizar algún cambio de locación. (8 pts) "
   ]
  },
  {
   "cell_type": "code",
   "execution_count": 52,
   "metadata": {},
   "outputs": [],
   "source": [
    "locacion_b['capacidad_maxima'] = locacion_b['capacidad'] + locacion_b['capacidad_extendida']"
   ]
  },
  {
   "cell_type": "code",
   "execution_count": 61,
   "metadata": {},
   "outputs": [
    {
     "data": {
      "text/html": [
       "<div>\n",
       "<style scoped>\n",
       "    .dataframe tbody tr th:only-of-type {\n",
       "        vertical-align: middle;\n",
       "    }\n",
       "\n",
       "    .dataframe tbody tr th {\n",
       "        vertical-align: top;\n",
       "    }\n",
       "\n",
       "    .dataframe thead th {\n",
       "        text-align: right;\n",
       "    }\n",
       "</style>\n",
       "<table border=\"1\" class=\"dataframe\">\n",
       "  <thead>\n",
       "    <tr style=\"text-align: right;\">\n",
       "      <th></th>\n",
       "      <th>nombre_evento</th>\n",
       "      <th>cantidad_espectadores</th>\n",
       "      <th>id_categoria_deportiva</th>\n",
       "      <th>id_locacion</th>\n",
       "      <th>sede</th>\n",
       "      <th>capacidad</th>\n",
       "      <th>capacidad_extendida</th>\n",
       "      <th>capacidad_maxima</th>\n",
       "    </tr>\n",
       "  </thead>\n",
       "  <tbody>\n",
       "    <tr>\n",
       "      <th>0</th>\n",
       "      <td>Evento1</td>\n",
       "      <td>10000</td>\n",
       "      <td>1</td>\n",
       "      <td>1</td>\n",
       "      <td>Nueva York</td>\n",
       "      <td>5000</td>\n",
       "      <td>2000</td>\n",
       "      <td>7000</td>\n",
       "    </tr>\n",
       "    <tr>\n",
       "      <th>1</th>\n",
       "      <td>Evento3</td>\n",
       "      <td>13000</td>\n",
       "      <td>3</td>\n",
       "      <td>1</td>\n",
       "      <td>Nueva York</td>\n",
       "      <td>5000</td>\n",
       "      <td>2000</td>\n",
       "      <td>7000</td>\n",
       "    </tr>\n",
       "    <tr>\n",
       "      <th>2</th>\n",
       "      <td>Evento2</td>\n",
       "      <td>3000</td>\n",
       "      <td>1</td>\n",
       "      <td>2</td>\n",
       "      <td>Nueva York</td>\n",
       "      <td>13000</td>\n",
       "      <td>2000</td>\n",
       "      <td>15000</td>\n",
       "    </tr>\n",
       "    <tr>\n",
       "      <th>3</th>\n",
       "      <td>Evento4</td>\n",
       "      <td>17000</td>\n",
       "      <td>1</td>\n",
       "      <td>3</td>\n",
       "      <td>Miami</td>\n",
       "      <td>9500</td>\n",
       "      <td>1500</td>\n",
       "      <td>11000</td>\n",
       "    </tr>\n",
       "  </tbody>\n",
       "</table>\n",
       "</div>"
      ],
      "text/plain": [
       "  nombre_evento  cantidad_espectadores  id_categoria_deportiva  id_locacion  \\\n",
       "0       Evento1                  10000                       1            1   \n",
       "1       Evento3                  13000                       3            1   \n",
       "2       Evento2                   3000                       1            2   \n",
       "3       Evento4                  17000                       1            3   \n",
       "\n",
       "         sede  capacidad  capacidad_extendida  capacidad_maxima  \n",
       "0  Nueva York       5000                 2000              7000  \n",
       "1  Nueva York       5000                 2000              7000  \n",
       "2  Nueva York      13000                 2000             15000  \n",
       "3       Miami       9500                 1500             11000  "
      ]
     },
     "execution_count": 61,
     "metadata": {},
     "output_type": "execute_result"
    }
   ],
   "source": [
    "merge_events_loc = eventos_b.merge(locacion_b, left_on = 'id_locacion', right_on = 'id_locacion', how = 'inner')\n",
    "merge_events_loc"
   ]
  },
  {
   "cell_type": "code",
   "execution_count": 62,
   "metadata": {},
   "outputs": [
    {
     "data": {
      "text/html": [
       "<div>\n",
       "<style scoped>\n",
       "    .dataframe tbody tr th:only-of-type {\n",
       "        vertical-align: middle;\n",
       "    }\n",
       "\n",
       "    .dataframe tbody tr th {\n",
       "        vertical-align: top;\n",
       "    }\n",
       "\n",
       "    .dataframe thead th {\n",
       "        text-align: right;\n",
       "    }\n",
       "</style>\n",
       "<table border=\"1\" class=\"dataframe\">\n",
       "  <thead>\n",
       "    <tr style=\"text-align: right;\">\n",
       "      <th></th>\n",
       "      <th>nombre_evento</th>\n",
       "      <th>cantidad_espectadores</th>\n",
       "      <th>id_categoria_deportiva</th>\n",
       "      <th>id_locacion</th>\n",
       "      <th>sede</th>\n",
       "      <th>capacidad</th>\n",
       "      <th>capacidad_extendida</th>\n",
       "      <th>capacidad_maxima</th>\n",
       "    </tr>\n",
       "  </thead>\n",
       "  <tbody>\n",
       "    <tr>\n",
       "      <th>0</th>\n",
       "      <td>Evento1</td>\n",
       "      <td>10000</td>\n",
       "      <td>1</td>\n",
       "      <td>1</td>\n",
       "      <td>Nueva York</td>\n",
       "      <td>5000</td>\n",
       "      <td>2000</td>\n",
       "      <td>7000</td>\n",
       "    </tr>\n",
       "    <tr>\n",
       "      <th>1</th>\n",
       "      <td>Evento3</td>\n",
       "      <td>13000</td>\n",
       "      <td>3</td>\n",
       "      <td>1</td>\n",
       "      <td>Nueva York</td>\n",
       "      <td>5000</td>\n",
       "      <td>2000</td>\n",
       "      <td>7000</td>\n",
       "    </tr>\n",
       "    <tr>\n",
       "      <th>3</th>\n",
       "      <td>Evento4</td>\n",
       "      <td>17000</td>\n",
       "      <td>1</td>\n",
       "      <td>3</td>\n",
       "      <td>Miami</td>\n",
       "      <td>9500</td>\n",
       "      <td>1500</td>\n",
       "      <td>11000</td>\n",
       "    </tr>\n",
       "  </tbody>\n",
       "</table>\n",
       "</div>"
      ],
      "text/plain": [
       "  nombre_evento  cantidad_espectadores  id_categoria_deportiva  id_locacion  \\\n",
       "0       Evento1                  10000                       1            1   \n",
       "1       Evento3                  13000                       3            1   \n",
       "3       Evento4                  17000                       1            3   \n",
       "\n",
       "         sede  capacidad  capacidad_extendida  capacidad_maxima  \n",
       "0  Nueva York       5000                 2000              7000  \n",
       "1  Nueva York       5000                 2000              7000  \n",
       "3       Miami       9500                 1500             11000  "
      ]
     },
     "execution_count": 62,
     "metadata": {},
     "output_type": "execute_result"
    }
   ],
   "source": [
    "merge_events_loc = merge_events_loc.loc[(merge_events_loc['cantidad_espectadores'] - merge_events_loc['capacidad_maxima']) > 0]\n",
    "merge_events_loc"
   ]
  },
  {
   "cell_type": "code",
   "execution_count": 64,
   "metadata": {},
   "outputs": [],
   "source": [
    "merge_events_loc = merge_events_loc_filtered[['nombre_evento', 'id_categoria_deportiva']]\n",
    "merge_events_loc = merge_events_loc.merge\\\n",
    "(categorias, left_on = 'id_categoria_deportiva', right_on = 'id_categoria_deportiva', how = 'inner')\n",
    "resul = merge_events_loc[['nombre_evento','nombre']]"
   ]
  },
  {
   "cell_type": "code",
   "execution_count": 65,
   "metadata": {},
   "outputs": [
    {
     "data": {
      "text/html": [
       "<div>\n",
       "<style scoped>\n",
       "    .dataframe tbody tr th:only-of-type {\n",
       "        vertical-align: middle;\n",
       "    }\n",
       "\n",
       "    .dataframe tbody tr th {\n",
       "        vertical-align: top;\n",
       "    }\n",
       "\n",
       "    .dataframe thead th {\n",
       "        text-align: right;\n",
       "    }\n",
       "</style>\n",
       "<table border=\"1\" class=\"dataframe\">\n",
       "  <thead>\n",
       "    <tr style=\"text-align: right;\">\n",
       "      <th></th>\n",
       "      <th>nombre_evento</th>\n",
       "      <th>nombre</th>\n",
       "    </tr>\n",
       "  </thead>\n",
       "  <tbody>\n",
       "    <tr>\n",
       "      <th>0</th>\n",
       "      <td>Evento1</td>\n",
       "      <td>futbol</td>\n",
       "    </tr>\n",
       "    <tr>\n",
       "      <th>1</th>\n",
       "      <td>Evento4</td>\n",
       "      <td>futbol</td>\n",
       "    </tr>\n",
       "    <tr>\n",
       "      <th>2</th>\n",
       "      <td>Evento3</td>\n",
       "      <td>tennis</td>\n",
       "    </tr>\n",
       "  </tbody>\n",
       "</table>\n",
       "</div>"
      ],
      "text/plain": [
       "  nombre_evento  nombre\n",
       "0       Evento1  futbol\n",
       "1       Evento4  futbol\n",
       "2       Evento3  tennis"
      ]
     },
     "execution_count": 65,
     "metadata": {},
     "output_type": "execute_result"
    }
   ],
   "source": [
    "resul"
   ]
  }
 ],
 "metadata": {
  "kernelspec": {
   "display_name": "Python 3",
   "language": "python",
   "name": "python3"
  },
  "language_info": {
   "codemirror_mode": {
    "name": "ipython",
    "version": 3
   },
   "file_extension": ".py",
   "mimetype": "text/x-python",
   "name": "python",
   "nbconvert_exporter": "python",
   "pygments_lexer": "ipython3",
   "version": "3.7.1"
  }
 },
 "nbformat": 4,
 "nbformat_minor": 2
}
