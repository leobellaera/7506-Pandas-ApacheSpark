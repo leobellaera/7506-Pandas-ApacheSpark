{
 "cells": [
  {
   "cell_type": "code",
   "execution_count": 1,
   "metadata": {
    "collapsed": true
   },
   "outputs": [],
   "source": [
    "import pyspark as ps\n",
    "\n",
    "sc = ps.SparkContext.getOrCreate()"
   ]
  },
  {
   "cell_type": "code",
   "execution_count": 6,
   "metadata": {
    "collapsed": true
   },
   "outputs": [],
   "source": [
    "# usuarios = (id_usuario, nickname, pais, fecha_alta) \n",
    "# publicaciones = (id_publicacion, id_usuario, id_foto, comentario, fecha)\n",
    "\n",
    "# Queremos: Encontrar los 10 hashtags que más aparecen publicados únicamente por usuarios Argentinos\n",
    "\n",
    "usuario1 = (0, 'Tomas', 'Argentina', '-')\n",
    "usuario2 = (1, 'Matias', 'Brasil', '-')\n",
    "usuario3 = (2, 'Javier', 'Argentina', '-')\n",
    "usuario4 = (3, 'Nicolas', 'Jupiter', '-')\n",
    "\n",
    "publicacion1 = (0, 0, 2, '#Amigos los quiero, #ellos', '-')\n",
    "publicacion2 = (0, 1, 2, '#Fiesta #Fiesta #Fiesta', '-')\n",
    "publicacion3 = (0, 0, 2, '#Amigos los quiero #tanto', '-')\n",
    "publicacion4 = (0, 2, 2, '#Comida #Comida', '-')\n",
    "publicacion5 = (0, 3, 2, '#Fideos #Fideos', '-')\n",
    "publicacion6 = (0, 2, 2, '#Amigos #Amigos #Amigos', '-')\n",
    "\n",
    "usuarios = sc.parallelize([usuario1, usuario2, usuario3, usuario4])\n",
    "publicaciones = sc.parallelize([publicacion1, publicacion2, publicacion3, publicacion4, publicacion5, publicacion6])"
   ]
  },
  {
   "cell_type": "code",
   "execution_count": 7,
   "metadata": {
    "collapsed": false
   },
   "outputs": [
    {
     "data": {
      "text/plain": [
       "[('#Amigos', 5), ('#Comida', 2), ('#tanto', 1), ('#ellos', 1)]"
      ]
     },
     "execution_count": 7,
     "metadata": {},
     "output_type": "execute_result"
    }
   ],
   "source": [
    "# Función que dado un string devuelve los hashtags como lista\n",
    "\n",
    "def parseHashtags(str):\n",
    "    salida = []\n",
    "    for termino in str.split():\n",
    "        if(termino[0] == '#'):\n",
    "            salida.append(termino)\n",
    "\n",
    "    return salida\n",
    "\n",
    "\n",
    "usuarios = usuarios.filter(lambda x: x[2] == 'Argentina').map(lambda x : (x[0], x[2]))\n",
    "\n",
    "publicaciones = publicaciones.map(lambda x: (x[1], x[3]))\\\n",
    "        .flatMap(lambda x: map(lambda y : (x[0],( y, 1)), parseHashtags(x[1])))\n",
    "\n",
    "usuarios.join(publicaciones).filter(lambda x : x[1][0] == 'Argentina')\\\n",
    "        .map(lambda x : (x[1][1][0], x[1][1][1]))\\\n",
    "        .reduceByKey(lambda x, y : x + y)\\\n",
    "        .takeOrdered(10, lambda x: -x[1])"
   ]
  }
 ],
 "metadata": {
  "kernelspec": {
   "display_name": "Python 3",
   "language": "python",
   "name": "python3"
  },
  "language_info": {
   "codemirror_mode": {
    "name": "ipython",
    "version": 3
   },
   "file_extension": ".py",
   "mimetype": "text/x-python",
   "name": "python",
   "nbconvert_exporter": "python",
   "pygments_lexer": "ipython3",
   "version": "3.6.7"
  }
 },
 "nbformat": 4,
 "nbformat_minor": 2
}
