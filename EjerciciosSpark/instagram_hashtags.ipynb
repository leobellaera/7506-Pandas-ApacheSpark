{
 "cells": [
  {
   "cell_type": "code",
   "execution_count": 1,
   "metadata": {},
   "outputs": [],
   "source": [
    "import pyspark\n",
    "\n",
    "try: \n",
    "    type(sc)\n",
    "except NameError:\n",
    "    sc = pyspark.SparkContext('local[*]')"
   ]
  },
  {
   "cell_type": "markdown",
   "metadata": {},
   "source": [
    "INSTAGRAM: \n",
    "\n",
    "RDD usuarios = (id_usuario, nickname, pais, fecha, alta)\n",
    "\n",
    "RDD publiaciones = (id_publicacion, id_usario, id_foto, comentario, fecha)\n",
    "\n",
    "Buscar top 10 # hashtags usarios argentina, si no fue publicado por alguien de argentina no considerarlo."
   ]
  },
  {
   "cell_type": "code",
   "execution_count": 2,
   "metadata": {},
   "outputs": [],
   "source": [
    "usuarios = [(1, 'user1', 'AR', 'fecha', 'alta'),\n",
    "          (2, 'user2', 'UY', 'fecha', 'alta'),\n",
    "          (3, 'user3', 'AR', 'fecha', 'alta'),\n",
    "          (4, 'user4', 'UY', 'fecha', 'alta'),\n",
    "          (5, 'user5', 'AR', 'fecha', 'alta')]\n",
    "\n",
    "publicaciones = [(91, 1, 241, '#buendia #telefe, #noticiero', 'fecha'),\n",
    "                 (92, 1, 121, '#buendia salio el sol', 'fecha'),\n",
    "                 (93, 1,  234, 'sin filtro', 'fecha'),\n",
    "                 (103, 1, 239, 'en el cine #endgame', 'fecha'),\n",
    "                 (94, 2,  432, '#buendia #endgame', 'fecha'),\n",
    "                 (95, 2, 431, '#endgame #marvel peliculon!', 'fecha'),\n",
    "                 (96, 3, 213, '#telefe', 'fecha'),\n",
    "                 (97, 3, 455, '#endgame #marvel', 'fecha'),\n",
    "                 (98, 4,  123, '#endgame wow #marvel', 'fecha'),\n",
    "                 (99, 4, 523, '#buendia#holamundo#hacking#fiuy', 'fecha'),\n",
    "                 (100, 4, 341, 'con amigos', 'fecha'),\n",
    "                 (100, 4, 341, 'con amigos #cine#marvel#endgame', 'fecha'),\n",
    "                 (101, 5,  326, 'desayunando cafe, #buendia', 'fecha')]\n"
   ]
  },
  {
   "cell_type": "code",
   "execution_count": 3,
   "metadata": {},
   "outputs": [],
   "source": [
    "rdd_usuarios = sc.parallelize(usuarios)\n",
    "rdd_publicaciones = sc.parallelize(publicaciones)"
   ]
  },
  {
   "cell_type": "code",
   "execution_count": 10,
   "metadata": {},
   "outputs": [
    {
     "data": {
      "text/plain": [
       "[(1, 'AR'), (3, 'AR'), (5, 'AR')]"
      ]
     },
     "execution_count": 10,
     "metadata": {},
     "output_type": "execute_result"
    }
   ],
   "source": [
    "user_country = rdd_usuarios.filter(lambda x: x[2] == 'AR').\\\n",
    "                map(lambda x: (x[0],x[2]))\n",
    "user_country.collect()"
   ]
  },
  {
   "cell_type": "code",
   "execution_count": 5,
   "metadata": {},
   "outputs": [
    {
     "data": {
      "text/plain": [
       "[(1, '#buendia #telefe, #noticiero'),\n",
       " (1, '#buendia salio el sol'),\n",
       " (1, 'sin filtro'),\n",
       " (1, 'en el cine #endgame'),\n",
       " (2, '#buendia #endgame'),\n",
       " (2, '#endgame #marvel peliculon!'),\n",
       " (3, '#telefe'),\n",
       " (3, '#endgame #marvel'),\n",
       " (4, '#endgame wow #marvel'),\n",
       " (4, '#buendia#holamundo#hacking#fiuy'),\n",
       " (4, 'con amigos'),\n",
       " (4, 'con amigos #cine#marvel#endgame'),\n",
       " (5, 'desayunando cafe, #buendia')]"
      ]
     },
     "execution_count": 5,
     "metadata": {},
     "output_type": "execute_result"
    }
   ],
   "source": [
    "user_coment = rdd_publicaciones.map(lambda x: (x[1], x[3]))\n",
    "user_coment.collect()"
   ]
  },
  {
   "cell_type": "code",
   "execution_count": 11,
   "metadata": {},
   "outputs": [
    {
     "data": {
      "text/plain": [
       "[(1, ('#buendia #telefe, #noticiero', 'AR')),\n",
       " (1, ('#buendia salio el sol', 'AR')),\n",
       " (1, ('sin filtro', 'AR')),\n",
       " (1, ('en el cine #endgame', 'AR')),\n",
       " (3, ('#telefe', 'AR')),\n",
       " (3, ('#endgame #marvel', 'AR')),\n",
       " (5, ('desayunando cafe, #buendia', 'AR'))]"
      ]
     },
     "execution_count": 11,
     "metadata": {},
     "output_type": "execute_result"
    }
   ],
   "source": [
    "join_a = user_coment.join(user_country)\n",
    "join_a.collect()"
   ]
  },
  {
   "cell_type": "code",
   "execution_count": 62,
   "metadata": {},
   "outputs": [
    {
     "data": {
      "text/plain": [
       "['#buendia #telefe, #noticiero',\n",
       " '#buendia salio el sol',\n",
       " 'sin filtro',\n",
       " 'en el cine #endgame',\n",
       " '#telefe',\n",
       " '#endgame #marvel',\n",
       " 'desayunando cafe, #buendia']"
      ]
     },
     "execution_count": 62,
     "metadata": {},
     "output_type": "execute_result"
    }
   ],
   "source": [
    "coments = join_a.map(lambda x: x[1][0])\n",
    "coments.collect()"
   ]
  },
  {
   "cell_type": "code",
   "execution_count": 88,
   "metadata": {},
   "outputs": [
    {
     "data": {
      "text/plain": [
       "[('#buendia', 3)]"
      ]
     },
     "execution_count": 88,
     "metadata": {},
     "output_type": "execute_result"
    }
   ],
   "source": [
    "top_hashtag = coments.flatMap(lambda x: x.split()).\\\n",
    "            filter(lambda x: x[0] ==\"#\").\\\n",
    "            map(lambda x: (x,1)).\\\n",
    "            reduceByKey(lambda x,y: x+y).\\\n",
    "            sortByKey().take(1)\n",
    "top_hashtag"
   ]
  }
 ],
 "metadata": {
  "kernelspec": {
   "display_name": "Python 3",
   "language": "python",
   "name": "python3"
  },
  "language_info": {
   "codemirror_mode": {
    "name": "ipython",
    "version": 3
   },
   "file_extension": ".py",
   "mimetype": "text/x-python",
   "name": "python",
   "nbconvert_exporter": "python",
   "pygments_lexer": "ipython3",
   "version": "3.6.7"
  }
 },
 "nbformat": 4,
 "nbformat_minor": 2
}
