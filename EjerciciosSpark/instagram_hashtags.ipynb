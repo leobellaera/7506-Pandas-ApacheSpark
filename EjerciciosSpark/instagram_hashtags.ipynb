{
 "cells": [
  {
   "cell_type": "markdown",
   "metadata": {},
   "source": [
    "Instagram almacena en un RDD (id_user, nickname,pais,fecha_alta) y en otro RDD (id_publicacion, id_user, comentario, id_foto, fecha)"
   ]
  },
  {
   "cell_type": "markdown",
   "metadata": {},
   "source": [
    "### Encontrar el top10 de hashtags que más aparecen y que fueron publicados por usuarios de Argentina"
   ]
  },
  {
   "cell_type": "code",
   "execution_count": 1,
   "metadata": {},
   "outputs": [],
   "source": [
    "import pyspark\n",
    "\n",
    "try: \n",
    "    type(sc)\n",
    "except NameError:\n",
    "    sc = pyspark.SparkContext('local[*]')"
   ]
  },
  {
   "cell_type": "code",
   "execution_count": 2,
   "metadata": {},
   "outputs": [],
   "source": [
    "usuarios_data = [\n",
    "    (1, \"Leo\", \"Argentina\", 2015),\n",
    "    (2, \"Leo\", \"Argentina\", 2014),\n",
    "    (3, \"Leo\", \"Brasil\", 2013),\n",
    "    (4, \"Leo\", \"Argentina\", 2012),\n",
    "    (5, \"Leo\", \"Brasil\", 2014),\n",
    "    (6, \"Leo\", \"Argentina\", 2016),\n",
    "    (7, \"Leo\", \"Bolivia\", 2017),\n",
    "    (8, \"Leo\", \"Brasil\", 2016)\n",
    "]\n",
    "\n",
    "usuarios_rdd = sc.parallelize(usuarios_data)"
   ]
  },
  {
   "cell_type": "code",
   "execution_count": 3,
   "metadata": {},
   "outputs": [],
   "source": [
    "publicaciones_data = [\n",
    "    (0, 1, \"#please #hola #boosting publicacion\", 1, 2019),\n",
    "    (1, 2, \"#leo #hola #hola #hola #freeky #freeky ,hola public, holahola\", 2, 2019),\n",
    "    (2, 3, \"#chau #chau #chau #chau #chau #chau testinggg\", 3, 2019),\n",
    "    (3, 2, \"no se que poner ni idea #drugs #\", 2, 2019),\n",
    "    (4, 5, \"#Drugs #Vans #Nike\", 3, 2018),\n",
    "    (5, 6, \"#Drugs #vans #professional\", 10, 2018),\n",
    "    (6, 6, \"#messi #ronaldo #tesla\", 20, 2019),\n",
    "    (7, 8, \"#messi messi messi #ronaldo push\", 21, 2018),\n",
    "    (8, 8, \"#Nada #hola nada Hola hola\", 18, 2019)\n",
    "]\n",
    "\n",
    "publicaciones_rdd = sc.parallelize(publicaciones_data)"
   ]
  },
  {
   "cell_type": "code",
   "execution_count": 4,
   "metadata": {},
   "outputs": [],
   "source": [
    "usuarios_argentina = usuarios_rdd.filter(lambda x: x[2] == \"Argentina\").map(lambda x: (x[0], None))"
   ]
  },
  {
   "cell_type": "code",
   "execution_count": 5,
   "metadata": {},
   "outputs": [],
   "source": [
    "publicaciones = publicaciones_rdd.map(lambda x: (x[1], x[2])) #los registros seran de la forma (id_user, comment)"
   ]
  },
  {
   "cell_type": "code",
   "execution_count": 6,
   "metadata": {},
   "outputs": [],
   "source": [
    "#luego del join que se realiza abajo tenemos registros de la forma (user_id, (None, comentario_foto))"
   ]
  },
  {
   "cell_type": "code",
   "execution_count": 7,
   "metadata": {},
   "outputs": [],
   "source": [
    "registros_palabras = usuarios_argentina.join(publicaciones)\\\n",
    ".flatMap(lambda x: x[1][1].split()) \n",
    "\n",
    "#ahora tenemos todas las palabras spliteadas, solo resta ver cuales empiezan con '#'"
   ]
  },
  {
   "cell_type": "code",
   "execution_count": 8,
   "metadata": {},
   "outputs": [
    {
     "data": {
      "text/plain": [
       "[('#hola', 4),\n",
       " ('#freeky', 2),\n",
       " ('#please', 1),\n",
       " ('#messi', 1),\n",
       " ('#tesla', 1),\n",
       " ('#leo', 1),\n",
       " ('#boosting', 1),\n",
       " ('#Drugs', 1),\n",
       " ('#', 1),\n",
       " ('#drugs', 1)]"
      ]
     },
     "execution_count": 8,
     "metadata": {},
     "output_type": "execute_result"
    }
   ],
   "source": [
    "registros_palabras.filter(lambda x: x[0] == '#')\\\n",
    ".map(lambda x: (x,1))\\\n",
    ".reduceByKey(lambda x,y: x + y)\\\n",
    ".takeOrdered(10, key = lambda x: -x[1])"
   ]
  },
  {
   "cell_type": "markdown",
   "metadata": {},
   "source": [
    "### Encontrar el top10 de hashtags que más aparecen y que fueron publicados unicamente(!!) por usuarios de Argentina"
   ]
  },
  {
   "cell_type": "markdown",
   "metadata": {},
   "source": [
    "De https://github.com/vaquarkhan/Apache-Kafka-poc-and-notes/wiki/Difference-between-flatMap()-and-map()-on-an-RDD podemos concluir que lo que la idea de flatmap es para cada registro del RDD aplicar una funcion de la forma: lambda x: function(x) donde function devuelve una lista de N elementos. El resultado del flatMap es un nuevo registro por cada elemento de la lista que surge de aplicar la funcion a cada elemento del RDD."
   ]
  },
  {
   "cell_type": "code",
   "execution_count": 9,
   "metadata": {},
   "outputs": [
    {
     "data": {
      "text/plain": [
       "[(1, ['#please', '#hola', '#boosting', 'publicacion']),\n",
       " (2,\n",
       "  ['#leo',\n",
       "   '#hola',\n",
       "   '#hola',\n",
       "   '#hola',\n",
       "   '#freeky',\n",
       "   '#freeky',\n",
       "   ',hola',\n",
       "   'public,',\n",
       "   'holahola']),\n",
       " (3, ['#chau', '#chau', '#chau', '#chau', '#chau', '#chau', 'testinggg']),\n",
       " (2, ['no', 'se', 'que', 'poner', 'ni', 'idea', '#drugs', '#']),\n",
       " (5, ['#Drugs', '#Vans', '#Nike']),\n",
       " (6, ['#Drugs', '#vans', '#professional']),\n",
       " (6, ['#messi', '#ronaldo', '#tesla']),\n",
       " (8, ['#messi', 'messi', 'messi', '#ronaldo', 'push']),\n",
       " (8, ['#Nada', '#hola', 'nada', 'Hola', 'hola'])]"
      ]
     },
     "execution_count": 9,
     "metadata": {},
     "output_type": "execute_result"
    }
   ],
   "source": [
    "publicaciones_rdd.flatMap(lambda x: [(x[1],x[2].split())]).collect()\n",
    "#notar que hacer esto es lo mismo q hacer publicaciones_rdd.map(lambda x: (x[1],x[2].split())).collect()"
   ]
  },
  {
   "cell_type": "code",
   "execution_count": 10,
   "metadata": {},
   "outputs": [],
   "source": [
    "def find_hashtags_users(register):\n",
    "    #we want to return something like return [(id_user_i, \"#hola\"),(id_user_i, \"#mood\"),(id_user_i, \"#goodbye\"),..]\n",
    "    comments = register[2].split()\n",
    "    hashtags = []\n",
    "    for elem in comments:\n",
    "        if elem[0] == '#':\n",
    "            hashtags.append((register[1], elem))\n",
    "    return hashtags"
   ]
  },
  {
   "cell_type": "code",
   "execution_count": 11,
   "metadata": {},
   "outputs": [],
   "source": [
    "user_id_hashtags = publicaciones_rdd.flatMap(lambda x: find_hashtags_users(x))"
   ]
  },
  {
   "cell_type": "code",
   "execution_count": 12,
   "metadata": {},
   "outputs": [
    {
     "data": {
      "text/plain": [
       "[(1, '#please'),\n",
       " (1, '#hola'),\n",
       " (1, '#boosting'),\n",
       " (2, '#leo'),\n",
       " (2, '#hola'),\n",
       " (2, '#hola'),\n",
       " (2, '#hola'),\n",
       " (2, '#freeky'),\n",
       " (2, '#freeky'),\n",
       " (3, '#chau'),\n",
       " (3, '#chau'),\n",
       " (3, '#chau'),\n",
       " (3, '#chau'),\n",
       " (3, '#chau'),\n",
       " (3, '#chau'),\n",
       " (2, '#drugs'),\n",
       " (2, '#'),\n",
       " (5, '#Drugs'),\n",
       " (5, '#Vans'),\n",
       " (5, '#Nike'),\n",
       " (6, '#Drugs'),\n",
       " (6, '#vans'),\n",
       " (6, '#professional'),\n",
       " (6, '#messi'),\n",
       " (6, '#ronaldo'),\n",
       " (6, '#tesla'),\n",
       " (8, '#messi'),\n",
       " (8, '#ronaldo'),\n",
       " (8, '#Nada'),\n",
       " (8, '#hola')]"
      ]
     },
     "execution_count": 12,
     "metadata": {},
     "output_type": "execute_result"
    }
   ],
   "source": [
    "user_id_hashtags.collect()"
   ]
  },
  {
   "cell_type": "code",
   "execution_count": 13,
   "metadata": {},
   "outputs": [],
   "source": [
    "usuarios_no_argentinos = usuarios_rdd.filter(lambda x: x[2] != \"Argentina\").map(lambda x: (x[0], None))"
   ]
  },
  {
   "cell_type": "code",
   "execution_count": 14,
   "metadata": {},
   "outputs": [],
   "source": [
    "hashtags_no_queridos = usuarios_no_argentinos.\\\n",
    "join(user_id_hashtags).map(lambda x: x[1][1]) #ya tenemos los hashtags que no queremos contabilizar"
   ]
  },
  {
   "cell_type": "code",
   "execution_count": 15,
   "metadata": {},
   "outputs": [
    {
     "data": {
      "text/plain": [
       "['#chau',\n",
       " '#chau',\n",
       " '#chau',\n",
       " '#chau',\n",
       " '#chau',\n",
       " '#chau',\n",
       " '#Drugs',\n",
       " '#Vans',\n",
       " '#Nike',\n",
       " '#messi',\n",
       " '#ronaldo',\n",
       " '#Nada',\n",
       " '#hola']"
      ]
     },
     "execution_count": 15,
     "metadata": {},
     "output_type": "execute_result"
    }
   ],
   "source": [
    "hashtags_no_queridos.collect()"
   ]
  }
 ],
 "metadata": {
  "kernelspec": {
   "display_name": "Python 3",
   "language": "python",
   "name": "python3"
  },
  "language_info": {
   "codemirror_mode": {
    "name": "ipython",
    "version": 3
   },
   "file_extension": ".py",
   "mimetype": "text/x-python",
   "name": "python",
   "nbconvert_exporter": "python",
   "pygments_lexer": "ipython3",
   "version": "3.7.1"
  }
 },
 "nbformat": 4,
 "nbformat_minor": 2
}
