{
 "cells": [
  {
   "cell_type": "code",
   "execution_count": 1,
   "metadata": {},
   "outputs": [],
   "source": [
    "import pyspark\n",
    "\n",
    "try: \n",
    "    type(sc)\n",
    "except NameError:\n",
    "    sc = pyspark.SparkContext('local[*]')"
   ]
  },
  {
   "cell_type": "markdown",
   "metadata": {},
   "source": [
    "INSTAGRAM: \n",
    "\n",
    "RDD usuarios = (id_usuario, nickname, pais, fecha, alta)\n",
    "\n",
    "RDD publiaciones = (id_publicacion, id_usario, id_foto, comentario, fecha)\n",
    "\n",
    "Buscar top 10 # hashtags usarios argentina, si no fue publicado por alguien de argentina no considerarlo."
   ]
  },
  {
   "cell_type": "code",
   "execution_count": 2,
   "metadata": {},
   "outputs": [],
   "source": [
    "usuarios = [(1, 'user1', 'AR', 'fecha', 'alta'),\n",
    "          (2, 'user2', 'UY', 'fecha', 'alta'),\n",
    "          (3, 'user3', 'AR', 'fecha', 'alta'),\n",
    "          (4, 'user4', 'UY', 'fecha', 'alta'),\n",
    "          (5, 'user5', 'AR', 'fecha', 'alta')]\n",
    "\n",
    "publicaciones = [(91, 1, 241, '#buendia #telefe, #noticiero', 'fecha'),\n",
    "                 (92, 1, 121, '#buendia salio el sol', 'fecha'),\n",
    "                 (93, 1,  234, 'sin filtro', 'fecha'),\n",
    "                 (103, 1, 239, 'en el cine #endgame', 'fecha'),\n",
    "                 (94, 2,  432, '#buendia #endgame', 'fecha'),\n",
    "                 (95, 2, 431, '#endgame #marvel peliculon!', 'fecha'),\n",
    "                 (96, 3, 213, '#telefe', 'fecha'),\n",
    "                 (97, 3, 455, '#endgame #marvel', 'fecha'),\n",
    "                 (98, 4,  123, '#endgame wow #marvel', 'fecha'),\n",
    "                 (99, 4, 523, '#buendia#holamundo#hacking#fiuy', 'fecha'),\n",
    "                 (100, 4, 341, 'con amigos', 'fecha'),\n",
    "                 (100, 4, 341, 'con amigos #cine#marvel#endgame', 'fecha'),\n",
    "                 (101, 5,  326, 'desayunando cafe, #buendia', 'fecha')]\n"
   ]
  },
  {
   "cell_type": "code",
   "execution_count": 3,
   "metadata": {},
   "outputs": [],
   "source": [
    "rdd_usuarios = sc.parallelize(usuarios)\n",
    "rdd_publicaciones = sc.parallelize(publicaciones)"
   ]
  },
  {
   "cell_type": "code",
   "execution_count": 10,
   "metadata": {},
   "outputs": [
    {
     "data": {
      "text/plain": [
       "[(1, 'AR'), (3, 'AR'), (5, 'AR')]"
      ]
     },
     "execution_count": 10,
     "metadata": {},
     "output_type": "execute_result"
    }
   ],
   "source": [
    "user_country = rdd_usuarios.filter(lambda x: x[2] == 'AR').\\\n",
    "                map(lambda x: (x[0],x[2]))\n",
    "user_country.collect()"
   ]
  },
  {
   "cell_type": "code",
   "execution_count": 29,
   "metadata": {},
   "outputs": [],
   "source": [
    "# rsk2 = rdd_publicaciones.filter(lambda x: x[1] in [1,3,5]).\\\n",
    "# rsk2.collect()"
   ]
  },
  {
   "cell_type": "code",
   "execution_count": 20,
   "metadata": {},
   "outputs": [
    {
     "ename": "TypeError",
     "evalue": "'PipelinedRDD' object is not iterable",
     "output_type": "error",
     "traceback": [
      "\u001b[0;31m---------------------------------------------------------------------------\u001b[0m",
      "\u001b[0;31mTypeError\u001b[0m                                 Traceback (most recent call last)",
      "\u001b[0;32m<ipython-input-20-156264ca2684>\u001b[0m in \u001b[0;36m<module>\u001b[0;34m\u001b[0m\n\u001b[1;32m      1\u001b[0m \u001b[0mcomentarios\u001b[0m \u001b[0;34m=\u001b[0m \u001b[0;34m[\u001b[0m\u001b[0;34m]\u001b[0m\u001b[0;34m\u001b[0m\u001b[0;34m\u001b[0m\u001b[0m\n\u001b[0;32m----> 2\u001b[0;31m \u001b[0;32mfor\u001b[0m \u001b[0mx\u001b[0m \u001b[0;32min\u001b[0m \u001b[0mrsk2\u001b[0m\u001b[0;34m:\u001b[0m\u001b[0;34m\u001b[0m\u001b[0;34m\u001b[0m\u001b[0m\n\u001b[0m\u001b[1;32m      3\u001b[0m     \u001b[0mprint\u001b[0m\u001b[0;34m(\u001b[0m\u001b[0mx\u001b[0m\u001b[0;34m)\u001b[0m\u001b[0;34m\u001b[0m\u001b[0;34m\u001b[0m\u001b[0m\n\u001b[1;32m      4\u001b[0m     \u001b[0;31m#hs = ele.strip('#') for ele in x[2].split() if ele.startswith(\"#\")\u001b[0m\u001b[0;34m\u001b[0m\u001b[0;34m\u001b[0m\u001b[0;34m\u001b[0m\u001b[0m\n\u001b[1;32m      5\u001b[0m     \u001b[0mcomentarios\u001b[0m\u001b[0;34m.\u001b[0m\u001b[0mappend\u001b[0m\u001b[0;34m(\u001b[0m\u001b[0mhs\u001b[0m\u001b[0;34m)\u001b[0m\u001b[0;34m\u001b[0m\u001b[0;34m\u001b[0m\u001b[0m\n",
      "\u001b[0;31mTypeError\u001b[0m: 'PipelinedRDD' object is not iterable"
     ]
    }
   ],
   "source": [
    "comentarios = []\n",
    "for x in rsk2:\n",
    "    print(x)\n",
    "    #hs = ele.strip('#') for ele in x[2].split() if ele.startswith(\"#\")\n",
    "    comentarios.append(hs)\n",
    "print(comentarios)"
   ]
  },
  {
   "cell_type": "code",
   "execution_count": 5,
   "metadata": {},
   "outputs": [
    {
     "data": {
      "text/plain": [
       "[(1, '#buendia #telefe, #noticiero'),\n",
       " (1, '#buendia salio el sol'),\n",
       " (1, 'sin filtro'),\n",
       " (1, 'en el cine #endgame'),\n",
       " (2, '#buendia #endgame'),\n",
       " (2, '#endgame #marvel peliculon!'),\n",
       " (3, '#telefe'),\n",
       " (3, '#endgame #marvel'),\n",
       " (4, '#endgame wow #marvel'),\n",
       " (4, '#buendia#holamundo#hacking#fiuy'),\n",
       " (4, 'con amigos'),\n",
       " (4, 'con amigos #cine#marvel#endgame'),\n",
       " (5, 'desayunando cafe, #buendia')]"
      ]
     },
     "execution_count": 5,
     "metadata": {},
     "output_type": "execute_result"
    }
   ],
   "source": [
    "user_coment = rdd_publicaciones.map(lambda x: (x[1], x[3]))\n",
    "user_coment.collect()"
   ]
  },
  {
   "cell_type": "code",
   "execution_count": 11,
   "metadata": {},
   "outputs": [
    {
     "data": {
      "text/plain": [
       "[(1, ('#buendia #telefe, #noticiero', 'AR')),\n",
       " (1, ('#buendia salio el sol', 'AR')),\n",
       " (1, ('sin filtro', 'AR')),\n",
       " (1, ('en el cine #endgame', 'AR')),\n",
       " (3, ('#telefe', 'AR')),\n",
       " (3, ('#endgame #marvel', 'AR')),\n",
       " (5, ('desayunando cafe, #buendia', 'AR'))]"
      ]
     },
     "execution_count": 11,
     "metadata": {},
     "output_type": "execute_result"
    }
   ],
   "source": [
    "join_a = user_coment.join(user_country)\n",
    "join_a.collect()"
   ]
  },
  {
   "cell_type": "code",
   "execution_count": 62,
   "metadata": {},
   "outputs": [
    {
     "data": {
      "text/plain": [
       "['#buendia #telefe, #noticiero',\n",
       " '#buendia salio el sol',\n",
       " 'sin filtro',\n",
       " 'en el cine #endgame',\n",
       " '#telefe',\n",
       " '#endgame #marvel',\n",
       " 'desayunando cafe, #buendia']"
      ]
     },
     "execution_count": 62,
     "metadata": {},
     "output_type": "execute_result"
    }
   ],
   "source": [
    "coments = join_a.map(lambda x: x[1][0])\n",
    "coments.collect()"
   ]
  },
  {
   "cell_type": "code",
   "execution_count": 70,
   "metadata": {},
   "outputs": [],
   "source": [
    "def get_hashtags(string):\n",
    "    lista = string.split()\n",
    "    for word in lista:\n",
    "        hashtags = [word.replace(',', '') for word in lista if word.startswith(\"#\")]\n",
    "    return hashtags"
   ]
  },
  {
   "cell_type": "code",
   "execution_count": 71,
   "metadata": {},
   "outputs": [
    {
     "data": {
      "text/plain": [
       "[['#buendia', '#telefe', '#noticiero'],\n",
       " ['#buendia'],\n",
       " [],\n",
       " ['#endgame'],\n",
       " ['#telefe'],\n",
       " ['#endgame', '#marvel'],\n",
       " ['#buendia']]"
      ]
     },
     "execution_count": 71,
     "metadata": {},
     "output_type": "execute_result"
    }
   ],
   "source": [
    "coments.map(lambda x: get_hashtags(x)).collect()"
   ]
  },
  {
   "cell_type": "code",
   "execution_count": 32,
   "metadata": {},
   "outputs": [
    {
     "name": "stdout",
     "output_type": "stream",
     "text": [
      "[['#buendia', '#telefe,', '#noticiero'], ['#buendia', 'salio', 'el', 'sol'], ['sin', 'filtro'], ['en', 'el', 'cine', '#endgame'], ['#telefe'], ['#endgame', '#marvel'], ['desayunando', 'cafe,', '#buendia']]\n",
      "buendia\n",
      "telefe,\n",
      "noticiero\n",
      "buendia\n",
      "endgame\n",
      "telefe\n",
      "endgame\n",
      "marvel\n",
      "buendia\n"
     ]
    }
   ],
   "source": [
    "comentarios = [x.split() for x in coments]\n",
    "print(comentarios)\n",
    "for lista in comentarios:\n",
    "    for word in lista:\n",
    "        if word[0] == '#':\n",
    "            hs = word.strip('#') \n",
    "            print(hs)\n"
   ]
  }
 ],
 "metadata": {
  "kernelspec": {
   "display_name": "Python 3",
   "language": "python",
   "name": "python3"
  },
  "language_info": {
   "codemirror_mode": {
    "name": "ipython",
    "version": 3
   },
   "file_extension": ".py",
   "mimetype": "text/x-python",
   "name": "python",
   "nbconvert_exporter": "python",
   "pygments_lexer": "ipython3",
   "version": "3.6.7"
  }
 },
 "nbformat": 4,
 "nbformat_minor": 2
}
