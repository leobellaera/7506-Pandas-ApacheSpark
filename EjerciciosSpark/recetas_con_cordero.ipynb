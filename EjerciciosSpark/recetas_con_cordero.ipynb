{
 "cells": [
  {
   "cell_type": "markdown",
   "metadata": {},
   "source": [
    "Tenemos información sobre recetas en 3 RDD de Spark.\n",
    "\n",
    "Recetas: (id_receta, nombre, tiempo_preparación, dificultad)\n",
    "Ingredientes: (id_ingrediente, nombre)\n",
    "Ingredientes por Receta: (id_receta, id_ingrediente, cantidad)\n",
    "\n",
    "Se pide:\n",
    "a) Obtener el nombre de todas las recetas que tengan Cordero. (7 puntos)\n",
    "b) Calcular la cantidad total de cada ingrediente si queremos hacer todas las recetas con Cordero que sean fáciles.\n"
   ]
  },
  {
   "cell_type": "code",
   "execution_count": 1,
   "metadata": {},
   "outputs": [],
   "source": [
    "import pyspark\n",
    "\n",
    "try: \n",
    "    type(sc)\n",
    "except NameError:\n",
    "    sc = pyspark.SparkContext('local[*]')"
   ]
  },
  {
   "cell_type": "code",
   "execution_count": 2,
   "metadata": {},
   "outputs": [],
   "source": [
    "recetas = [\n",
    "    (1, \"milanesas con ensalada\", 60, \"facil\"),\n",
    "    (4, \"sushi\", 100, \"difícil\"),\n",
    "    (5, \"asado\", 110, \"facil\" ),\n",
    "    (7, \"cordero a la cerveza\", 60, \"facil\"),\n",
    "    (8, \"cordero al disco\", 130, \"dificil\")\n",
    "]"
   ]
  },
  {
   "cell_type": "code",
   "execution_count": 3,
   "metadata": {},
   "outputs": [],
   "source": [
    "ingredientes = [\n",
    "    (1, \"pescado\"),\n",
    "    (2, \"cordero\"),\n",
    "    (3, \"cerveza\"),\n",
    "    (4, \"morron\"),\n",
    "    (5, \"sal\"),\n",
    "    (6, \"vino tinto\"),\n",
    "    (7, \"lechuga\")\n",
    "]"
   ]
  },
  {
   "cell_type": "code",
   "execution_count": 4,
   "metadata": {},
   "outputs": [],
   "source": [
    "ingred_x_receta = [\n",
    "    (5, 2, 1000),\n",
    "    (5, 5, 10),\n",
    "    (4, 1, 500),\n",
    "    (1, 7, 100),\n",
    "    (7, 2, 500),\n",
    "    (7, 3, 1000),\n",
    "    (8, 2, 800),\n",
    "    (8, 4, 100)\n",
    "]"
   ]
  },
  {
   "cell_type": "markdown",
   "metadata": {},
   "source": [
    "### Resolveremos primero el punto (a)\n",
    "Obtener el nombre de todas las recetas que tengan Cordero"
   ]
  },
  {
   "cell_type": "code",
   "execution_count": 5,
   "metadata": {},
   "outputs": [],
   "source": [
    "recetas_rdd = sc.parallelize(recetas)\n",
    "ingred_recetas_rdd = sc.parallelize(ingred_x_receta)\n",
    "ingredientes_rdd = sc.parallelize(ingredientes)"
   ]
  },
  {
   "cell_type": "code",
   "execution_count": 6,
   "metadata": {},
   "outputs": [],
   "source": [
    "cordero = ingredientes_rdd.filter(lambda x: x[1] == \"cordero\")"
   ]
  },
  {
   "cell_type": "code",
   "execution_count": 7,
   "metadata": {},
   "outputs": [],
   "source": [
    "rec_con_cordero = ingred_recetas_rdd.map(lambda x: (x[1], x[0]))"
   ]
  },
  {
   "cell_type": "code",
   "execution_count": 8,
   "metadata": {},
   "outputs": [
    {
     "data": {
      "text/plain": [
       "[(2, 5), (5, 5), (1, 4), (7, 1), (2, 7), (3, 7), (2, 8), (4, 8)]"
      ]
     },
     "execution_count": 8,
     "metadata": {},
     "output_type": "execute_result"
    }
   ],
   "source": [
    "rec_con_cordero.collect()  #en cada tupla tenemos (id_ingrediente, id_receta)"
   ]
  },
  {
   "cell_type": "code",
   "execution_count": 9,
   "metadata": {},
   "outputs": [
    {
     "data": {
      "text/plain": [
       "[(2, 'cordero')]"
      ]
     },
     "execution_count": 9,
     "metadata": {},
     "output_type": "execute_result"
    }
   ],
   "source": [
    "cordero.collect()"
   ]
  },
  {
   "cell_type": "code",
   "execution_count": 10,
   "metadata": {},
   "outputs": [],
   "source": [
    "join_a = cordero.join(rec_con_cordero)"
   ]
  },
  {
   "cell_type": "code",
   "execution_count": 11,
   "metadata": {},
   "outputs": [
    {
     "data": {
      "text/plain": [
       "[(2, ('cordero', 5)), (2, ('cordero', 7)), (2, ('cordero', 8))]"
      ]
     },
     "execution_count": 11,
     "metadata": {},
     "output_type": "execute_result"
    }
   ],
   "source": [
    "join_a.collect() #ahora tengo tuplas de la forma (id_ingrediente, ('cordero', id_receta))"
   ]
  },
  {
   "cell_type": "markdown",
   "metadata": {},
   "source": [
    "##### Ahora hacemos todo el join en una sola linea"
   ]
  },
  {
   "cell_type": "code",
   "execution_count": 12,
   "metadata": {},
   "outputs": [],
   "source": [
    "ids_recetas_con_cordero = cordero.join(rec_con_cordero).map(lambda x: (x[1][1], None))"
   ]
  },
  {
   "cell_type": "code",
   "execution_count": 13,
   "metadata": {},
   "outputs": [
    {
     "data": {
      "text/plain": [
       "[(5, None), (7, None), (8, None)]"
      ]
     },
     "execution_count": 13,
     "metadata": {},
     "output_type": "execute_result"
    }
   ],
   "source": [
    "ids_recetas_con_cordero.collect() #lo que hicimos fue mapear un None a cada id para luego poder joinear"
   ]
  },
  {
   "cell_type": "code",
   "execution_count": 14,
   "metadata": {},
   "outputs": [],
   "source": [
    "resul = recetas_rdd.map(lambda x: (x[0], x[1])).join(ids_recetas_con_cordero)\n",
    "#lo que hicimos fue mapear una tupla clave valor en el rdd de recetas (para poder hacer el join) de la forma (id_receta, nombre_receta)\n",
    "#luego joineamos con los ids de las recetas"
   ]
  },
  {
   "cell_type": "code",
   "execution_count": 15,
   "metadata": {},
   "outputs": [],
   "source": [
    "recetas_con_cordero = resul.map(lambda x: x[1][0])"
   ]
  },
  {
   "cell_type": "code",
   "execution_count": 16,
   "metadata": {},
   "outputs": [
    {
     "data": {
      "text/plain": [
       "['asado', 'cordero a la cerveza', 'cordero al disco']"
      ]
     },
     "execution_count": 16,
     "metadata": {},
     "output_type": "execute_result"
    }
   ],
   "source": [
    "recetas_con_cordero.collect()"
   ]
  },
  {
   "cell_type": "markdown",
   "metadata": {},
   "source": [
    "### Resolveremos ahora el punto (b)\n",
    "Calcular la cantidad total de cada ingrediente si queremos hacer todas las recetas con Cordero que sean fáciles."
   ]
  },
  {
   "cell_type": "code",
   "execution_count": 17,
   "metadata": {},
   "outputs": [],
   "source": [
    "ids_recetas_faciles_con_cordero = recetas_rdd.filter(lambda x: x[3] == \"facil\")\\\n",
    ".map(lambda x: (x[1],x[0]))\\\n",
    ".join(recetas_con_cordero.map(lambda x: (x, None)))\\\n",
    ".map(lambda x: (x[1][0], None))"
   ]
  },
  {
   "cell_type": "code",
   "execution_count": 18,
   "metadata": {},
   "outputs": [
    {
     "data": {
      "text/plain": [
       "[(5, None), (7, None)]"
      ]
     },
     "execution_count": 18,
     "metadata": {},
     "output_type": "execute_result"
    }
   ],
   "source": [
    "ids_recetas_faciles_con_cordero.collect()"
   ]
  },
  {
   "cell_type": "code",
   "execution_count": 19,
   "metadata": {},
   "outputs": [],
   "source": [
    "ingredientes_utilizados_faciles_cordero = ids_recetas_faciles_con_cordero.join(\\\n",
    "ingred_recetas_rdd.map(lambda x: ( x[0], (x[1], x[2]))))\\\n",
    ".map(lambda x: (x[1][1][0], x[1][1][1] ))"
   ]
  },
  {
   "cell_type": "code",
   "execution_count": 20,
   "metadata": {},
   "outputs": [],
   "source": [
    "# hasta antes del ultimo map tengo (id_receta, (None, (id_ingrediente,cantidad))) entonces mapeo para que me quede todo ordenado\n",
    "# para realizar el reduceByKey"
   ]
  },
  {
   "cell_type": "code",
   "execution_count": 21,
   "metadata": {},
   "outputs": [
    {
     "data": {
      "text/plain": [
       "[(2, 1000), (5, 10), (2, 500), (3, 1000)]"
      ]
     },
     "execution_count": 21,
     "metadata": {},
     "output_type": "execute_result"
    }
   ],
   "source": [
    "ingredientes_utilizados_faciles_cordero.collect()"
   ]
  },
  {
   "cell_type": "code",
   "execution_count": 22,
   "metadata": {},
   "outputs": [],
   "source": [
    "#Hasta antes del map tengo (id_ingrediente , (cant_utilizada, nombre_ingrediente))"
   ]
  },
  {
   "cell_type": "code",
   "execution_count": 23,
   "metadata": {},
   "outputs": [
    {
     "data": {
      "text/plain": [
       "[('cordero', 1500), ('cerveza', 1000), ('sal', 10)]"
      ]
     },
     "execution_count": 23,
     "metadata": {},
     "output_type": "execute_result"
    }
   ],
   "source": [
    "ingredientes_cantidad = ingredientes_utilizados_faciles_cordero.reduceByKey(lambda x,y: x + y).join(ingredientes_rdd)\\\n",
    ".map(lambda x: (x[1][1], x[1][0]))\n",
    "\n",
    "ingredientes_cantidad.collect()"
   ]
  },
  {
   "cell_type": "code",
   "execution_count": 24,
   "metadata": {},
   "outputs": [],
   "source": [
    "#Dato: El takeOrdered ordena de menor a mayor! "
   ]
  }
 ],
 "metadata": {
  "kernelspec": {
   "display_name": "Python 3",
   "language": "python",
   "name": "python3"
  },
  "language_info": {
   "codemirror_mode": {
    "name": "ipython",
    "version": 3
   },
   "file_extension": ".py",
   "mimetype": "text/x-python",
   "name": "python",
   "nbconvert_exporter": "python",
   "pygments_lexer": "ipython3",
   "version": "3.7.1"
  }
 },
 "nbformat": 4,
 "nbformat_minor": 2
}
