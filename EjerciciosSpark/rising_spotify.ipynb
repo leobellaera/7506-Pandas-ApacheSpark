{
 "cells": [
  {
   "cell_type": "code",
   "execution_count": 1,
   "metadata": {},
   "outputs": [],
   "source": [
    "import pyspark\n",
    "\n",
    "try: \n",
    "    type(sc)\n",
    "except NameError:\n",
    "    sc = pyspark.SparkContext('local[*]')"
   ]
  },
  {
   "cell_type": "code",
   "execution_count": 2,
   "metadata": {},
   "outputs": [],
   "source": [
    "spotify_data = [\n",
    "    (\"hoy\", 3),\n",
    "    (\"ayer\", 2),\n",
    "    (\"hoy\", 3),\n",
    "    (\"hoy\", 3),\n",
    "    (\"hoy\", 3),\n",
    "    (\"ayer\", 3),\n",
    "    (\"hoy\", 3),\n",
    "    (\"hoy\", 5),\n",
    "    (\"ayer\", 6),\n",
    "    (\"ayer\", 7),\n",
    "    (\"ayer\", 7),\n",
    "    (\"hoy\", 7)\n",
    "    \n",
    "]"
   ]
  },
  {
   "cell_type": "code",
   "execution_count": 3,
   "metadata": {},
   "outputs": [],
   "source": [
    "spotify = sc.parallelize(spotify_data)"
   ]
  },
  {
   "cell_type": "code",
   "execution_count": 4,
   "metadata": {},
   "outputs": [],
   "source": [
    "hoy = spotify.filter(lambda x: x[0] == \"hoy\").map(lambda x: (x[1], 1))\\\n",
    ".reduceByKey(lambda x,y: x + y)\n",
    "ayer = spotify.filter(lambda x: x[0] == \"ayer\").map(lambda x: (x[1], 1))\\\n",
    ".reduceByKey(lambda x,y: x + y)"
   ]
  },
  {
   "cell_type": "code",
   "execution_count": 19,
   "metadata": {},
   "outputs": [
    {
     "data": {
      "text/plain": [
       "[(3, 'rising')]"
      ]
     },
     "execution_count": 19,
     "metadata": {},
     "output_type": "execute_result"
    }
   ],
   "source": [
    "rdd_rising = hoy.leftOuterJoin(ayer).filter(lambda x: False if not x[1][1] else x[1][0] > x[1][1]).map(lambda x: (x[0], \"rising\"))\n",
    "rdd_tags.take(3)"
   ]
  },
  {
   "cell_type": "code",
   "execution_count": null,
   "metadata": {},
   "outputs": [],
   "source": [
    "#rdd_resul = rdd_tags.union(rdd_rising)"
   ]
  }
 ],
 "metadata": {
  "kernelspec": {
   "display_name": "Python 3",
   "language": "python",
   "name": "python3"
  },
  "language_info": {
   "codemirror_mode": {
    "name": "ipython",
    "version": 3
   },
   "file_extension": ".py",
   "mimetype": "text/x-python",
   "name": "python",
   "nbconvert_exporter": "python",
   "pygments_lexer": "ipython3",
   "version": "3.7.1"
  }
 },
 "nbformat": 4,
 "nbformat_minor": 2
}
